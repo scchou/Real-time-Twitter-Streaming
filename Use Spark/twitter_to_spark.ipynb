{
 "cells": [
  {
   "cell_type": "code",
   "execution_count": 1,
   "metadata": {},
   "outputs": [],
   "source": [
    "from pyspark import SparkConf, SparkContext\n",
    "from pyspark.streaming import StreamingContext\n",
    "from pyspark.sql import Row, SQLContext\n",
    "import sys\n",
    "import requests\n",
    "conf = SparkConf()\n",
    "conf.setMaster('local[2]')\n",
    "conf.setAppName(\"TwitterStreamApp\")\n",
    "# create spark context with the above configuration\n",
    "sc = SparkContext(conf=conf)\n",
    "sc.setLogLevel(\"ERROR\")\n",
    "# create the Streaming Context from the above spark context with interval size 1 seconds\n",
    "ssc = StreamingContext(sc, 1)\n",
    "# setting a checkpoint to allow RDD recovery\n",
    "ssc.checkpoint(\"checkpoint_TwitterApp\")\n",
    "# read data from port 9009\n",
    "dataStream = ssc.socketTextStream(\"localhost\", 9009)"
   ]
  },
  {
   "cell_type": "code",
   "execution_count": 2,
   "metadata": {},
   "outputs": [],
   "source": [
    "def sum_tags_count(new_values, total_sum):\n",
    "    return sum(new_values) + (total_sum or 0)\n",
    "def get_sql_context_instance(spark_context):\n",
    "    if ('sqlContextSingletonInstance' not in globals()):\n",
    "        globals()['sqlContextSingletonInstance'] = SQLContext(spark_context)\n",
    "    return globals()['sqlContextSingletonInstance']\n",
    "def process_rdd(time, rdd):\n",
    "    print(\"---------- %s ----------\" % str(time))\n",
    "    try:\n",
    "        # Get spark sql singleton context from the current context\n",
    "        sql_context = get_sql_context_instance(rdd.context)\n",
    "        # convert the RDD to Row RDD\n",
    "        row_rdd = rdd.map(lambda w: Row(hashtag=w[0], hashtag_count=w[1]))\n",
    "        # create a DF from the Row RDD\n",
    "        hashtags_df = sql_context.createDataFrame(row_rdd)\n",
    "        # Register the dataframe as table\n",
    "        hashtags_df.registerTempTable(\"hashtags\")\n",
    "        # get the top 10 hashtags from the table using SQL and print them\n",
    "        hashtag_counts_df = sql_context.sql(\"select hashtag, hashtag_count from hashtags order by hashtag_count desc limit 10\")\n",
    "        hashtag_counts_df.show()\n",
    "    except:\n",
    "        e = sys.exc_info()[0]\n",
    "        print(e)\n",
    "#    finally:     "
   ]
  },
  {
   "cell_type": "code",
   "execution_count": null,
   "metadata": {},
   "outputs": [
    {
     "name": "stdout",
     "output_type": "stream",
     "text": [
      "---------- 2019-11-26 03:10:50 ----------\n",
      "<class 'ValueError'>\n",
      "---------- 2019-11-26 03:10:51 ----------\n",
      "+----------------+-------------+\n",
      "|         hashtag|hashtag_count|\n",
      "+----------------+-------------+\n",
      "|               #|            1|\n",
      "|              ##|            1|\n",
      "|[##𝐅𝐎𝐋𝐋𝐎𝐖]|            1|\n",
      "+----------------+-------------+\n",
      "\n",
      "---------- 2019-11-26 03:10:52 ----------\n",
      "+----------------+-------------+\n",
      "|         hashtag|hashtag_count|\n",
      "+----------------+-------------+\n",
      "|               #|            1|\n",
      "|              ##|            1|\n",
      "|[##𝐅𝐎𝐋𝐋𝐎𝐖]|            1|\n",
      "+----------------+-------------+\n",
      "\n",
      "---------- 2019-11-26 03:10:53 ----------\n",
      "+----------------+-------------+\n",
      "|         hashtag|hashtag_count|\n",
      "+----------------+-------------+\n",
      "|               #|            1|\n",
      "|              ##|            1|\n",
      "|[##𝐅𝐎𝐋𝐋𝐎𝐖]|            1|\n",
      "+----------------+-------------+\n",
      "\n",
      "---------- 2019-11-26 03:10:54 ----------\n"
     ]
    }
   ],
   "source": [
    "# split each tweet into words\n",
    "words = dataStream.flatMap(lambda line: line.split(\" \"))\n",
    "# filter the words to get only hashtags, then map each hashtag to be a pair of (hashtag,1)\n",
    "hashtags = words.filter(lambda w: '#' in w).map(lambda x: (x, 1))\n",
    "# adding the count of each hashtag to its last count\n",
    "tags_totals = hashtags.updateStateByKey(sum_tags_count)\n",
    "# do processing for each RDD generated in each interval\n",
    "tags_totals.foreachRDD(process_rdd)\n",
    "# start the streaming computation\n",
    "ssc.start()\n",
    "# wait for the streaming to finish\n",
    "ssc.awaitTermination()"
   ]
  },
  {
   "cell_type": "code",
   "execution_count": null,
   "metadata": {},
   "outputs": [],
   "source": []
  },
  {
   "cell_type": "code",
   "execution_count": null,
   "metadata": {},
   "outputs": [],
   "source": []
  }
 ],
 "metadata": {
  "kernelspec": {
   "display_name": "Python 3",
   "language": "python",
   "name": "python3"
  },
  "language_info": {
   "codemirror_mode": {
    "name": "ipython",
    "version": 3
   },
   "file_extension": ".py",
   "mimetype": "text/x-python",
   "name": "python",
   "nbconvert_exporter": "python",
   "pygments_lexer": "ipython3",
   "version": "3.6.8"
  }
 },
 "nbformat": 4,
 "nbformat_minor": 2
}
